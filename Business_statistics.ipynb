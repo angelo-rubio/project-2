{
 "cells": [
  {
   "cell_type": "markdown",
   "id": "6yDxo9u0d9Na",
   "metadata": {
    "id": "6yDxo9u0d9Na"
   },
   "source": [
    "# Project Business Statistics: E-news Express\n"
   ]
  },
  {
   "cell_type": "markdown",
   "id": "SrLd-ICEmPSD",
   "metadata": {
    "id": "SrLd-ICEmPSD",
    "jp-MarkdownHeadingCollapsed": true
   },
   "source": [
    "## Define Problem Statement and Objectives\n",
    "\n",
    "As the executives of E-News Express believe that there is a decrease in the number of new subscribers compared to last year, the design team has researched and created a new layout for the website, hoping that this new design boosts the number of subscribers.\n",
    "\n",
    "The company now wants to know if this design will be effective in increasing the number of subscribers. For this, a sample of 100 users was selected and divided into two groups. The control group consists of 50 users using the current website, and the treatment group consists of 50 users using the new design.\n",
    "\n",
    "Based on this sample, we need to draw conclusions regarding the effectiveness of the new design and answer the following questions:\n",
    "\n",
    "1) Do the users spend more time on the new landing page than on the existing landing page?\n",
    "\n",
    "2) Is the conversion rate (the proportion of users who visit the landing page and get converted) for the new page greater than the conversion rate for the old page?\n",
    "\n",
    "3) Does the converted status depend on the preferred language?\n",
    "\n",
    "4) Is the time spent on the new page the same for the different language users?\n",
    "\n",
    "The objective of this analysis is to provide insights from the collected data, answer the proposed questions, and finally provide some conclusions and recommendations."
   ]
  },
  {
   "cell_type": "markdown",
   "id": "a6a3d218",
   "metadata": {
    "id": "a6a3d218"
   },
   "source": [
    "## Import all the necessary libraries"
   ]
  },
  {
   "cell_type": "code",
   "execution_count": 5,
   "id": "37e17b39-e7c4-49e4-b5a4-52c775763ef9",
   "metadata": {},
   "outputs": [],
   "source": [
    "# Installing the libraries with the specified version.\n",
    "#!pip install numpy==1.25.2 pandas==1.5.3 matplotlib==3.7.1 seaborn==0.13.1 scipy==1.11.4 -q --user"
   ]
  },
  {
   "cell_type": "markdown",
   "id": "DAaycw-QP-j9",
   "metadata": {
    "id": "DAaycw-QP-j9"
   },
   "source": [
    "**Note**: *After running the above cell, kindly restart the notebook kernel and run all cells sequentially from the start again.*"
   ]
  },
  {
   "cell_type": "code",
   "execution_count": 1,
   "id": "658c5dec",
   "metadata": {
    "id": "658c5dec"
   },
   "outputs": [
    {
     "name": "stdout",
     "output_type": "stream",
     "text": [
      "Numpy version: 1.26.4\n",
      "Pandas version: 2.2.2\n",
      "Matplotlib version: 3.10.0\n",
      "Seaborn version: 0.13.2\n",
      "Scipy version: 1.13.1\n"
     ]
    }
   ],
   "source": [
    "import numpy as np \n",
    "import pandas as pd \n",
    "import matplotlib \n",
    "import matplotlib.pyplot as plt \n",
    "import seaborn as sns \n",
    "import scipy\n",
    "\n",
    "print(\"Numpy version:\", np.__version__)\n",
    "print(\"Pandas version:\", pd.__version__)\n",
    "print(\"Matplotlib version:\", matplotlib.__version__)\n",
    "print(\"Seaborn version:\", sns.__version__)\n",
    "print(\"Scipy version:\", scipy.__version__)"
   ]
  },
  {
   "cell_type": "markdown",
   "id": "6970dd99",
   "metadata": {
    "id": "6970dd99"
   },
   "source": [
    "## Reading the Data into a DataFrame"
   ]
  },
  {
   "cell_type": "code",
   "execution_count": 2,
   "id": "d3b95640",
   "metadata": {
    "id": "d3b95640"
   },
   "outputs": [],
   "source": [
    "#Read and copy data in a variable called df\n",
    "data = pd.read_csv('abtest.csv')\n",
    "df =data.copy()"
   ]
  },
  {
   "cell_type": "markdown",
   "id": "9d75cfa2",
   "metadata": {
    "id": "9d75cfa2"
   },
   "source": [
    "## Explore the dataset and extract insights using Exploratory Data Analysis"
   ]
  },
  {
   "cell_type": "markdown",
   "id": "27201534",
   "metadata": {
    "id": "27201534"
   },
   "source": [
    "- Data Overview\n",
    "  - Viewing the first and last few rows of the dataset\n",
    "  - Checking the shape of the dataset\n",
    "  - Getting the statistical summary for the variables\n",
    "- Check for missing values\n",
    "- Check for duplicates"
   ]
  },
  {
   "cell_type": "code",
   "execution_count": 3,
   "id": "e1ad11d4",
   "metadata": {
    "id": "e1ad11d4"
   },
   "outputs": [
    {
     "name": "stdout",
     "output_type": "stream",
     "text": [
      "<class 'pandas.core.frame.DataFrame'>\n",
      "RangeIndex: 100 entries, 0 to 99\n",
      "Data columns (total 6 columns):\n",
      " #   Column                  Non-Null Count  Dtype  \n",
      "---  ------                  --------------  -----  \n",
      " 0   user_id                 100 non-null    int64  \n",
      " 1   group                   100 non-null    object \n",
      " 2   landing_page            100 non-null    object \n",
      " 3   time_spent_on_the_page  100 non-null    float64\n",
      " 4   converted               100 non-null    object \n",
      " 5   language_preferred      100 non-null    object \n",
      "dtypes: float64(1), int64(1), object(4)\n",
      "memory usage: 4.8+ KB\n"
     ]
    }
   ],
   "source": [
    "# We proceed to check our data for general information, missing data, and basic statistics. \n",
    "df.info()"
   ]
  },
  {
   "cell_type": "markdown",
   "id": "2152db45-63c0-4216-a6e6-c32973593ca5",
   "metadata": {},
   "source": [
    "As expected we have 100 entries in our table."
   ]
  },
  {
   "cell_type": "code",
   "execution_count": 4,
   "id": "fa2f77c2-aaeb-447f-aff6-961b40e62f84",
   "metadata": {},
   "outputs": [
    {
     "data": {
      "text/plain": [
       "(100, 6)"
      ]
     },
     "execution_count": 4,
     "metadata": {},
     "output_type": "execute_result"
    }
   ],
   "source": [
    "df.shape"
   ]
  },
  {
   "cell_type": "markdown",
   "id": "38d5ef30-4097-4434-aeee-cae940829fa0",
   "metadata": {},
   "source": [
    "We have 100 rows and 7 columns in our data set."
   ]
  },
  {
   "cell_type": "code",
   "execution_count": 5,
   "id": "2c2b5edb-bb49-4046-8d1f-b4760920f7b7",
   "metadata": {},
   "outputs": [
    {
     "data": {
      "text/html": [
       "<div>\n",
       "<style scoped>\n",
       "    .dataframe tbody tr th:only-of-type {\n",
       "        vertical-align: middle;\n",
       "    }\n",
       "\n",
       "    .dataframe tbody tr th {\n",
       "        vertical-align: top;\n",
       "    }\n",
       "\n",
       "    .dataframe thead th {\n",
       "        text-align: right;\n",
       "    }\n",
       "</style>\n",
       "<table border=\"1\" class=\"dataframe\">\n",
       "  <thead>\n",
       "    <tr style=\"text-align: right;\">\n",
       "      <th></th>\n",
       "      <th>user_id</th>\n",
       "      <th>group</th>\n",
       "      <th>landing_page</th>\n",
       "      <th>time_spent_on_the_page</th>\n",
       "      <th>converted</th>\n",
       "      <th>language_preferred</th>\n",
       "    </tr>\n",
       "  </thead>\n",
       "  <tbody>\n",
       "    <tr>\n",
       "      <th>0</th>\n",
       "      <td>546592</td>\n",
       "      <td>control</td>\n",
       "      <td>old</td>\n",
       "      <td>3.48</td>\n",
       "      <td>no</td>\n",
       "      <td>Spanish</td>\n",
       "    </tr>\n",
       "    <tr>\n",
       "      <th>1</th>\n",
       "      <td>546468</td>\n",
       "      <td>treatment</td>\n",
       "      <td>new</td>\n",
       "      <td>7.13</td>\n",
       "      <td>yes</td>\n",
       "      <td>English</td>\n",
       "    </tr>\n",
       "    <tr>\n",
       "      <th>2</th>\n",
       "      <td>546462</td>\n",
       "      <td>treatment</td>\n",
       "      <td>new</td>\n",
       "      <td>4.40</td>\n",
       "      <td>no</td>\n",
       "      <td>Spanish</td>\n",
       "    </tr>\n",
       "    <tr>\n",
       "      <th>3</th>\n",
       "      <td>546567</td>\n",
       "      <td>control</td>\n",
       "      <td>old</td>\n",
       "      <td>3.02</td>\n",
       "      <td>no</td>\n",
       "      <td>French</td>\n",
       "    </tr>\n",
       "    <tr>\n",
       "      <th>4</th>\n",
       "      <td>546459</td>\n",
       "      <td>treatment</td>\n",
       "      <td>new</td>\n",
       "      <td>4.75</td>\n",
       "      <td>yes</td>\n",
       "      <td>Spanish</td>\n",
       "    </tr>\n",
       "  </tbody>\n",
       "</table>\n",
       "</div>"
      ],
      "text/plain": [
       "   user_id      group landing_page  time_spent_on_the_page converted  \\\n",
       "0   546592    control          old                    3.48        no   \n",
       "1   546468  treatment          new                    7.13       yes   \n",
       "2   546462  treatment          new                    4.40        no   \n",
       "3   546567    control          old                    3.02        no   \n",
       "4   546459  treatment          new                    4.75       yes   \n",
       "\n",
       "  language_preferred  \n",
       "0            Spanish  \n",
       "1            English  \n",
       "2            Spanish  \n",
       "3             French  \n",
       "4            Spanish  "
      ]
     },
     "execution_count": 5,
     "metadata": {},
     "output_type": "execute_result"
    }
   ],
   "source": [
    "df.head()"
   ]
  },
  {
   "cell_type": "code",
   "execution_count": 6,
   "id": "7b3c042b-f391-454d-82b4-e705ca568a6f",
   "metadata": {},
   "outputs": [
    {
     "data": {
      "text/html": [
       "<div>\n",
       "<style scoped>\n",
       "    .dataframe tbody tr th:only-of-type {\n",
       "        vertical-align: middle;\n",
       "    }\n",
       "\n",
       "    .dataframe tbody tr th {\n",
       "        vertical-align: top;\n",
       "    }\n",
       "\n",
       "    .dataframe thead th {\n",
       "        text-align: right;\n",
       "    }\n",
       "</style>\n",
       "<table border=\"1\" class=\"dataframe\">\n",
       "  <thead>\n",
       "    <tr style=\"text-align: right;\">\n",
       "      <th></th>\n",
       "      <th>user_id</th>\n",
       "      <th>group</th>\n",
       "      <th>landing_page</th>\n",
       "      <th>time_spent_on_the_page</th>\n",
       "      <th>converted</th>\n",
       "      <th>language_preferred</th>\n",
       "    </tr>\n",
       "  </thead>\n",
       "  <tbody>\n",
       "    <tr>\n",
       "      <th>95</th>\n",
       "      <td>546446</td>\n",
       "      <td>treatment</td>\n",
       "      <td>new</td>\n",
       "      <td>5.15</td>\n",
       "      <td>no</td>\n",
       "      <td>Spanish</td>\n",
       "    </tr>\n",
       "    <tr>\n",
       "      <th>96</th>\n",
       "      <td>546544</td>\n",
       "      <td>control</td>\n",
       "      <td>old</td>\n",
       "      <td>6.52</td>\n",
       "      <td>yes</td>\n",
       "      <td>English</td>\n",
       "    </tr>\n",
       "    <tr>\n",
       "      <th>97</th>\n",
       "      <td>546472</td>\n",
       "      <td>treatment</td>\n",
       "      <td>new</td>\n",
       "      <td>7.07</td>\n",
       "      <td>yes</td>\n",
       "      <td>Spanish</td>\n",
       "    </tr>\n",
       "    <tr>\n",
       "      <th>98</th>\n",
       "      <td>546481</td>\n",
       "      <td>treatment</td>\n",
       "      <td>new</td>\n",
       "      <td>6.20</td>\n",
       "      <td>yes</td>\n",
       "      <td>Spanish</td>\n",
       "    </tr>\n",
       "    <tr>\n",
       "      <th>99</th>\n",
       "      <td>546483</td>\n",
       "      <td>treatment</td>\n",
       "      <td>new</td>\n",
       "      <td>5.86</td>\n",
       "      <td>yes</td>\n",
       "      <td>English</td>\n",
       "    </tr>\n",
       "  </tbody>\n",
       "</table>\n",
       "</div>"
      ],
      "text/plain": [
       "    user_id      group landing_page  time_spent_on_the_page converted  \\\n",
       "95   546446  treatment          new                    5.15        no   \n",
       "96   546544    control          old                    6.52       yes   \n",
       "97   546472  treatment          new                    7.07       yes   \n",
       "98   546481  treatment          new                    6.20       yes   \n",
       "99   546483  treatment          new                    5.86       yes   \n",
       "\n",
       "   language_preferred  \n",
       "95            Spanish  \n",
       "96            English  \n",
       "97            Spanish  \n",
       "98            Spanish  \n",
       "99            English  "
      ]
     },
     "execution_count": 6,
     "metadata": {},
     "output_type": "execute_result"
    }
   ],
   "source": [
    "df.tail()"
   ]
  },
  {
   "cell_type": "markdown",
   "id": "cb71221d-74a6-4dd1-8056-e9ccdd41b141",
   "metadata": {},
   "source": [
    "The tested users are numerated from 0 to 99. The 7 columns we have in our dataframe correspond to what we expected."
   ]
  },
  {
   "cell_type": "code",
   "execution_count": 7,
   "id": "9af4c2d0-704d-4539-9113-3e6a7fa788a8",
   "metadata": {},
   "outputs": [
    {
     "data": {
      "text/plain": [
       "user_id                   0\n",
       "group                     0\n",
       "landing_page              0\n",
       "time_spent_on_the_page    0\n",
       "converted                 0\n",
       "language_preferred        0\n",
       "dtype: int64"
      ]
     },
     "execution_count": 7,
     "metadata": {},
     "output_type": "execute_result"
    }
   ],
   "source": [
    "df.isnull().sum()"
   ]
  },
  {
   "cell_type": "code",
   "execution_count": 8,
   "id": "cf8137f5-ae36-4fc0-99e6-e43fd7a3ea6b",
   "metadata": {},
   "outputs": [
    {
     "data": {
      "text/plain": [
       "user_id                   0\n",
       "group                     0\n",
       "landing_page              0\n",
       "time_spent_on_the_page    0\n",
       "converted                 0\n",
       "language_preferred        0\n",
       "dtype: int64"
      ]
     },
     "execution_count": 8,
     "metadata": {},
     "output_type": "execute_result"
    }
   ],
   "source": [
    "df.isna().sum()"
   ]
  },
  {
   "cell_type": "markdown",
   "id": "52ddf2f6-aaef-41e1-a84e-e466ff2f8fd0",
   "metadata": {},
   "source": [
    "Our data is free of null data. "
   ]
  },
  {
   "cell_type": "code",
   "execution_count": 9,
   "id": "abca66cf-4615-40ea-97d0-af79592819ce",
   "metadata": {},
   "outputs": [
    {
     "data": {
      "text/html": [
       "<div>\n",
       "<style scoped>\n",
       "    .dataframe tbody tr th:only-of-type {\n",
       "        vertical-align: middle;\n",
       "    }\n",
       "\n",
       "    .dataframe tbody tr th {\n",
       "        vertical-align: top;\n",
       "    }\n",
       "\n",
       "    .dataframe thead th {\n",
       "        text-align: right;\n",
       "    }\n",
       "</style>\n",
       "<table border=\"1\" class=\"dataframe\">\n",
       "  <thead>\n",
       "    <tr style=\"text-align: right;\">\n",
       "      <th></th>\n",
       "      <th>user_id</th>\n",
       "      <th>group</th>\n",
       "      <th>landing_page</th>\n",
       "      <th>time_spent_on_the_page</th>\n",
       "      <th>converted</th>\n",
       "      <th>language_preferred</th>\n",
       "    </tr>\n",
       "  </thead>\n",
       "  <tbody>\n",
       "    <tr>\n",
       "      <th>count</th>\n",
       "      <td>100.000000</td>\n",
       "      <td>100</td>\n",
       "      <td>100</td>\n",
       "      <td>100.000000</td>\n",
       "      <td>100</td>\n",
       "      <td>100</td>\n",
       "    </tr>\n",
       "    <tr>\n",
       "      <th>unique</th>\n",
       "      <td>NaN</td>\n",
       "      <td>2</td>\n",
       "      <td>2</td>\n",
       "      <td>NaN</td>\n",
       "      <td>2</td>\n",
       "      <td>3</td>\n",
       "    </tr>\n",
       "    <tr>\n",
       "      <th>top</th>\n",
       "      <td>NaN</td>\n",
       "      <td>control</td>\n",
       "      <td>old</td>\n",
       "      <td>NaN</td>\n",
       "      <td>yes</td>\n",
       "      <td>Spanish</td>\n",
       "    </tr>\n",
       "    <tr>\n",
       "      <th>freq</th>\n",
       "      <td>NaN</td>\n",
       "      <td>50</td>\n",
       "      <td>50</td>\n",
       "      <td>NaN</td>\n",
       "      <td>54</td>\n",
       "      <td>34</td>\n",
       "    </tr>\n",
       "    <tr>\n",
       "      <th>mean</th>\n",
       "      <td>546517.000000</td>\n",
       "      <td>NaN</td>\n",
       "      <td>NaN</td>\n",
       "      <td>5.377800</td>\n",
       "      <td>NaN</td>\n",
       "      <td>NaN</td>\n",
       "    </tr>\n",
       "    <tr>\n",
       "      <th>std</th>\n",
       "      <td>52.295779</td>\n",
       "      <td>NaN</td>\n",
       "      <td>NaN</td>\n",
       "      <td>2.378166</td>\n",
       "      <td>NaN</td>\n",
       "      <td>NaN</td>\n",
       "    </tr>\n",
       "    <tr>\n",
       "      <th>min</th>\n",
       "      <td>546443.000000</td>\n",
       "      <td>NaN</td>\n",
       "      <td>NaN</td>\n",
       "      <td>0.190000</td>\n",
       "      <td>NaN</td>\n",
       "      <td>NaN</td>\n",
       "    </tr>\n",
       "    <tr>\n",
       "      <th>25%</th>\n",
       "      <td>546467.750000</td>\n",
       "      <td>NaN</td>\n",
       "      <td>NaN</td>\n",
       "      <td>3.880000</td>\n",
       "      <td>NaN</td>\n",
       "      <td>NaN</td>\n",
       "    </tr>\n",
       "    <tr>\n",
       "      <th>50%</th>\n",
       "      <td>546492.500000</td>\n",
       "      <td>NaN</td>\n",
       "      <td>NaN</td>\n",
       "      <td>5.415000</td>\n",
       "      <td>NaN</td>\n",
       "      <td>NaN</td>\n",
       "    </tr>\n",
       "    <tr>\n",
       "      <th>75%</th>\n",
       "      <td>546567.250000</td>\n",
       "      <td>NaN</td>\n",
       "      <td>NaN</td>\n",
       "      <td>7.022500</td>\n",
       "      <td>NaN</td>\n",
       "      <td>NaN</td>\n",
       "    </tr>\n",
       "    <tr>\n",
       "      <th>max</th>\n",
       "      <td>546592.000000</td>\n",
       "      <td>NaN</td>\n",
       "      <td>NaN</td>\n",
       "      <td>10.710000</td>\n",
       "      <td>NaN</td>\n",
       "      <td>NaN</td>\n",
       "    </tr>\n",
       "  </tbody>\n",
       "</table>\n",
       "</div>"
      ],
      "text/plain": [
       "              user_id    group landing_page  time_spent_on_the_page converted  \\\n",
       "count      100.000000      100          100              100.000000       100   \n",
       "unique            NaN        2            2                     NaN         2   \n",
       "top               NaN  control          old                     NaN       yes   \n",
       "freq              NaN       50           50                     NaN        54   \n",
       "mean    546517.000000      NaN          NaN                5.377800       NaN   \n",
       "std         52.295779      NaN          NaN                2.378166       NaN   \n",
       "min     546443.000000      NaN          NaN                0.190000       NaN   \n",
       "25%     546467.750000      NaN          NaN                3.880000       NaN   \n",
       "50%     546492.500000      NaN          NaN                5.415000       NaN   \n",
       "75%     546567.250000      NaN          NaN                7.022500       NaN   \n",
       "max     546592.000000      NaN          NaN               10.710000       NaN   \n",
       "\n",
       "       language_preferred  \n",
       "count                 100  \n",
       "unique                  3  \n",
       "top               Spanish  \n",
       "freq                   34  \n",
       "mean                  NaN  \n",
       "std                   NaN  \n",
       "min                   NaN  \n",
       "25%                   NaN  \n",
       "50%                   NaN  \n",
       "75%                   NaN  \n",
       "max                   NaN  "
      ]
     },
     "execution_count": 9,
     "metadata": {},
     "output_type": "execute_result"
    }
   ],
   "source": [
    "df.describe(include='all')"
   ]
  },
  {
   "cell_type": "markdown",
   "id": "5bdc4af7-0ed8-49cb-b318-80f8d32a0920",
   "metadata": {},
   "source": [
    "We have two columns that seems to be the same (group and landing page). \n",
    "The minimum time spend in the website was only 2.3 minutes while the maximum was 10.7 minutes with a mean of 5.3 minutes. \n",
    "The majority of users in our sample used Spanish as their preffered language (34 out of 100)."
   ]
  },
  {
   "cell_type": "code",
   "execution_count": 10,
   "id": "0dff8e77-a914-457c-9796-484926285fc8",
   "metadata": {},
   "outputs": [
    {
     "data": {
      "text/plain": [
       "user_id                   100\n",
       "group                       2\n",
       "landing_page                2\n",
       "time_spent_on_the_page     94\n",
       "converted                   2\n",
       "language_preferred          3\n",
       "dtype: int64"
      ]
     },
     "execution_count": 10,
     "metadata": {},
     "output_type": "execute_result"
    }
   ],
   "source": [
    "df.nunique()"
   ]
  },
  {
   "cell_type": "markdown",
   "id": "8d91a3b6-0a3b-4b16-9f52-dc4697bc3e84",
   "metadata": {},
   "source": [
    "There is no duplicated data (100 unique users)"
   ]
  },
  {
   "cell_type": "code",
   "execution_count": 11,
   "id": "6c962316-503b-4a00-bc9f-a33f2fe33e27",
   "metadata": {},
   "outputs": [
    {
     "data": {
      "text/plain": [
       "match\n",
       "True    100\n",
       "Name: count, dtype: int64"
      ]
     },
     "execution_count": 11,
     "metadata": {},
     "output_type": "execute_result"
    }
   ],
   "source": [
    "#checking data sanity confirming that group and landing page values correspond (treatment = new, control = old)\n",
    "df['match'] = ((df['group'] == 'treatment') & (df['landing_page'] == 'new')) | ((df['group'] == 'control') & (df['landing_page'] == 'old'))\n",
    "df['match'].value_counts()"
   ]
  },
  {
   "cell_type": "markdown",
   "id": "19ff5bae-fa8c-4eca-ad38-2bc05de9b80a",
   "metadata": {},
   "source": [
    "We confirmed that the control and the landing page columns represent the same data."
   ]
  },
  {
   "cell_type": "markdown",
   "id": "68f3b2c9",
   "metadata": {
    "id": "68f3b2c9"
   },
   "source": [
    "### Univariate Analysis"
   ]
  },
  {
   "cell_type": "code",
   "execution_count": 12,
   "id": "1932d0f3",
   "metadata": {
    "id": "1932d0f3"
   },
   "outputs": [
    {
     "data": {
      "text/plain": [
       "group\n",
       "control      50\n",
       "treatment    50\n",
       "Name: count, dtype: int64"
      ]
     },
     "execution_count": 12,
     "metadata": {},
     "output_type": "execute_result"
    },
    {
     "data": {
      "image/png": "[encoded data removed]",
      "text/plain": [
       "<Figure size 640x480 with 1 Axes>"
      ]
     },
     "metadata": {},
     "output_type": "display_data"
    }
   ],
   "source": [
    "sns.countplot(data=df, x='group',hue='group', palette='dark:Green')\n",
    "df['group'].value_counts()"
   ]
  },
  {
   "cell_type": "code",
   "execution_count": 13,
   "id": "7be39877-9900-4239-8e7b-5c215ba50076",
   "metadata": {},
   "outputs": [
    {
     "data": {
      "text/plain": [
       "landing_page\n",
       "old    50\n",
       "new    50\n",
       "Name: count, dtype: int64"
      ]
     },
     "execution_count": 13,
     "metadata": {},
     "output_type": "execute_result"
    },
    {
     "data": {
      "image/png": "[encoded data removed]",
      "text/plain": [
       "<Figure size 640x480 with 1 Axes>"
      ]
     },
     "metadata": {},
     "output_type": "display_data"
    }
   ],
   "source": [
    "sns.countplot(data=df, x='landing_page', hue='landing_page',palette='dark:Green')\n",
    "df['landing_page'].value_counts()"
   ]
  },
  {
   "cell_type": "markdown",
   "id": "fcac229e-334e-4396-8518-c36f0607a2c0",
   "metadata": {},
   "source": [
    "As expected (and confirmed with initial data sanity check) data is divided in 2 groups of 50 participants each (50 for new website=treatment group and 50 old website = control). So from now on, only one of the columns will be analyzed as they have the same information."
   ]
  },
  {
   "cell_type": "code",
   "execution_count": 14,
   "id": "e0e128e3-a224-46df-8d0d-ab1d5d17ab1d",
   "metadata": {},
   "outputs": [
    {
     "data": {
      "image/png": "[encoded data removed]",
      "text/plain": [
       "<Figure size 640x480 with 1 Axes>"
      ]
     },
     "metadata": {},
     "output_type": "display_data"
    }
   ],
   "source": [
    "sns.histplot(data=df, x='time_spent_on_the_page',kde='true', color='Green');"
   ]
  },
  {
   "cell_type": "markdown",
   "id": "0d9687f0-7add-4f46-a31d-16409e017e6a",
   "metadata": {},
   "source": [
    "As first sight, the time spend on the website for all the user seems to follow almost a normal distribution. More analysis might be needed."
   ]
  },
  {
   "cell_type": "code",
   "execution_count": 34,
   "id": "595ed670-124a-412f-ae49-220a621256a1",
   "metadata": {},
   "outputs": [
    {
     "data": {
      "text/plain": [
       "converted\n",
       "yes    54\n",
       "no     46\n",
       "Name: count, dtype: int64"
      ]
     },
     "execution_count": 34,
     "metadata": {},
     "output_type": "execute_result"
    },
    {
     "data": {
      "image/png": "[encoded data removed]",
      "text/plain": [
       "<Figure size 640x480 with 1 Axes>"
      ]
     },
     "metadata": {},
     "output_type": "display_data"
    }
   ],
   "source": [
    "sns.countplot(data=df, x='converted',hue='converted', palette='dark:Green')\n",
    "df['converted'].value_counts()"
   ]
  },
  {
   "cell_type": "markdown",
   "id": "51c538d2-3063-463d-b110-f8ed5b64be03",
   "metadata": {},
   "source": [
    "From the data we can see that more user were converted than the ones that were not converted. Further analysis is needed to check if the design of the landing page had something to do with it or not."
   ]
  },
  {
   "cell_type": "code",
   "execution_count": 36,
   "id": "f702ea64-a572-4de9-8478-79c2756020c9",
   "metadata": {},
   "outputs": [
    {
     "data": {
      "text/plain": [
       "language_preferred\n",
       "Spanish    34\n",
       "French     34\n",
       "English    32\n",
       "Name: count, dtype: int64"
      ]
     },
     "execution_count": 36,
     "metadata": {},
     "output_type": "execute_result"
    },
    {
     "data": {
      "image/png": "[encoded data removed]",
      "text/plain": [
       "<Figure size 640x480 with 1 Axes>"
      ]
     },
     "metadata": {},
     "output_type": "display_data"
    }
   ],
   "source": [
    "sns.countplot(data=df, x='language_preferred',hue='language_preferred', palette='dark:Green');\n",
    "df['language_preferred'].value_counts()"
   ]
  },
  {
   "cell_type": "markdown",
   "id": "3fdfdbfb-7c68-4e2c-8ba6-7847e381c87b",
   "metadata": {},
   "source": [
    "We can see from the data that almost 1/3 of the users used Spanish, English and French respectively as their chosen landing page language. English users counts for 32 users while Spanish and French counts for 34 each."
   ]
  },
  {
   "cell_type": "markdown",
   "id": "fad2de2f",
   "metadata": {
    "id": "fad2de2f"
   },
   "source": [
    "### Bivariate Analysis"
   ]
  },
  {
   "cell_type": "markdown",
   "id": "5af6c576-941b-4860-96e4-5afbde61c735",
   "metadata": {},
   "source": [
    "### Landing Page"
   ]
  },
  {
   "cell_type": "code",
   "execution_count": 40,
   "id": "58e9a1d0",
   "metadata": {
    "id": "58e9a1d0"
   },
   "outputs": [
    {
     "data": {
      "image/png": "[encoded data removed]",
      "text/plain": [
       "<Figure size 600x300 with 2 Axes>"
      ]
     },
     "metadata": {},
     "output_type": "display_data"
    }
   ],
   "source": [
    "g = sns.FacetGrid(df, col='landing_page', sharex=True, sharey=True,hue='landing_page',palette='dark:Green') \n",
    "# Map the histplot to the grid \n",
    "g.map(sns.histplot, 'time_spent_on_the_page', kde=True);"
   ]
  },
  {
   "cell_type": "markdown",
   "id": "8fba1058-e00f-4266-b472-9a3c7b2a55d5",
   "metadata": {},
   "source": [
    "When separating what type of group we are analyzing, we realize that the distribution of the time spend by user is modified. "
   ]
  },
  {
   "cell_type": "code",
   "execution_count": 42,
   "id": "c0c67f84-7352-4c1f-bb25-0ee5bf3a3fc1",
   "metadata": {},
   "outputs": [
    {
     "name": "stdout",
     "output_type": "stream",
     "text": [
      "group\n",
      "control      4.5324\n",
      "treatment    6.2232\n",
      "Name: time_spent_on_the_page, dtype: float64\n"
     ]
    },
    {
     "data": {
      "image/png": "[encoded data removed]",
      "text/plain": [
       "<Figure size 640x480 with 1 Axes>"
      ]
     },
     "metadata": {},
     "output_type": "display_data"
    }
   ],
   "source": [
    "sns.boxplot(data=df, x='time_spent_on_the_page', hue='landing_page',palette='light:Green');\n",
    "print(df.groupby('group')['time_spent_on_the_page'].mean())"
   ]
  },
  {
   "cell_type": "markdown",
   "id": "57532acc-2274-459d-a4ba-86f9ce40b817",
   "metadata": {},
   "source": [
    "We can see that in average users spent more time on the new website. We need further analysis to test if this finding is statistically relevant or not"
   ]
  },
  {
   "cell_type": "code",
   "execution_count": 44,
   "id": "5bbfaf3c-50aa-4a6d-9c0e-5676d1e40434",
   "metadata": {},
   "outputs": [
    {
     "data": {
      "image/png": "[encoded data removed]",
      "text/plain": [
       "<Figure size 640x480 with 1 Axes>"
      ]
     },
     "metadata": {},
     "output_type": "display_data"
    }
   ],
   "source": [
    "sns.swarmplot(data=df, x='time_spent_on_the_page', y='converted',hue='converted', palette='dark:Green');"
   ]
  },
  {
   "cell_type": "markdown",
   "id": "c8d00bb1-185f-4d37-9558-71c5157b43cf",
   "metadata": {},
   "source": [
    "It seems that the users who spend more time on the website are converted, while users who are not converted tend to spend less time on the website"
   ]
  },
  {
   "cell_type": "markdown",
   "id": "f7f6bcab-82d3-4890-abc0-93b61022f334",
   "metadata": {},
   "source": [
    "### Time Spend On the Page"
   ]
  },
  {
   "cell_type": "code",
   "execution_count": 47,
   "id": "0cb441f8-ea8f-44fa-aafb-3a7acd077366",
   "metadata": {},
   "outputs": [
    {
     "name": "stdout",
     "output_type": "stream",
     "text": [
      "language_preferred\n",
      "English    5.559062\n",
      "French     5.253235\n",
      "Spanish    5.331765\n",
      "Name: time_spent_on_the_page, dtype: float64\n"
     ]
    },
    {
     "data": {
      "image/png": "[encoded data removed]",
      "text/plain": [
       "<Figure size 1000x800 with 1 Axes>"
      ]
     },
     "metadata": {},
     "output_type": "display_data"
    }
   ],
   "source": [
    "plt.figure(figsize=(10,8))\n",
    "sns.boxplot(data=df, y='time_spent_on_the_page', hue='language_preferred',palette='light:Green');\n",
    "print(df.groupby('language_preferred')['time_spent_on_the_page'].mean())"
   ]
  },
  {
   "cell_type": "markdown",
   "id": "925f3db8-c2ec-4103-9961-aca1655bed8e",
   "metadata": {},
   "source": [
    "We can see that in average users stays in the website for almost the same amount of time independent of their selected language. But this still needs to be tested."
   ]
  },
  {
   "cell_type": "code",
   "execution_count": 49,
   "id": "7eed6aca-73db-453f-96fb-46d1f851660f",
   "metadata": {},
   "outputs": [
    {
     "name": "stdout",
     "output_type": "stream",
     "text": [
      "landing_page  converted\n",
      "new           yes          33\n",
      "              no           17\n",
      "old           no           29\n",
      "              yes          21\n",
      "Name: count, dtype: int64\n"
     ]
    },
    {
     "data": {
      "image/png": "[encoded data removed]",
      "text/plain": [
       "<Figure size 640x480 with 1 Axes>"
      ]
     },
     "metadata": {},
     "output_type": "display_data"
    }
   ],
   "source": [
    "sns.countplot(data=df, y='converted', hue='landing_page',palette='dark:Green');\n",
    "print(df.groupby('landing_page')['converted'].value_counts())"
   ]
  },
  {
   "cell_type": "markdown",
   "id": "a41e1c9b-1979-4079-930c-ec6e26ced60a",
   "metadata": {},
   "source": [
    "We can see that more users were converted when using the new website design. This information might need to be analyzed in more detail to tell if the change is statistically relevant or not."
   ]
  },
  {
   "cell_type": "markdown",
   "id": "27906576",
   "metadata": {
    "id": "27906576"
   },
   "source": [
    "## 1. Do the users spend more time on the new landing page than the existing landing page?"
   ]
  },
  {
   "cell_type": "markdown",
   "id": "e5fdf0c8",
   "metadata": {
    "id": "e5fdf0c8"
   },
   "source": [
    "### Perform Visual Analysis"
   ]
  },
  {
   "cell_type": "code",
   "execution_count": 53,
   "id": "6eZJa41eg21n",
   "metadata": {
    "id": "6eZJa41eg21n"
   },
   "outputs": [
    {
     "name": "stdout",
     "output_type": "stream",
     "text": [
      "landing_page\n",
      "new    6.2232\n",
      "old    4.5324\n",
      "Name: time_spent_on_the_page, dtype: float64\n"
     ]
    },
    {
     "data": {
      "image/png": "[encoded data removed]",
      "text/plain": [
       "<Figure size 640x480 with 1 Axes>"
      ]
     },
     "metadata": {},
     "output_type": "display_data"
    }
   ],
   "source": [
    "sns.boxplot(data=df, y='time_spent_on_the_page', x='landing_page', hue='landing_page',palette='dark:Green');\n",
    "print(df.groupby('landing_page')['time_spent_on_the_page'].mean())"
   ]
  },
  {
   "cell_type": "markdown",
   "id": "797d96ce-3358-42ac-ad78-95683f4123f4",
   "metadata": {},
   "source": [
    "As seen in the graph, it seems that users spend more time in average on the new site. But we still need to prove that the difference is statistically relevant."
   ]
  },
  {
   "cell_type": "markdown",
   "id": "56b3dafd",
   "metadata": {
    "id": "56b3dafd"
   },
   "source": [
    "### Step 1: Define the null and alternate hypotheses"
   ]
  },
  {
   "cell_type": "markdown",
   "id": "591808b6-4100-43ce-b93f-61969463b6a3",
   "metadata": {
    "id": "d2ac77ef"
   },
   "source": [
    "$H_0$: Users spend the same time on the website independent of the landing site design\n",
    "\n",
    "$H_a$: User spend more time on the new landing site design"
   ]
  },
  {
   "cell_type": "markdown",
   "id": "c7ee4907",
   "metadata": {
    "id": "c7ee4907"
   },
   "source": [
    "### Step 2: Select Appropriate test"
   ]
  },
  {
   "cell_type": "markdown",
   "id": "2c183cd7",
   "metadata": {
    "id": "2c183cd7"
   },
   "source": [
    "As we're trying to prove if the mean of minutes spent by user in the new website is bigger than the old website, this is a one-tailed analysis ('greater than'). The variance of the population is unknown and the samples are independent, so the appropiate test for this analysis is the two-sample independent t-test. "
   ]
  },
  {
   "cell_type": "markdown",
   "id": "3f58c9a7",
   "metadata": {
    "id": "3f58c9a7"
   },
   "source": [
    "### Step 3: Decide the significance level"
   ]
  },
  {
   "cell_type": "markdown",
   "id": "92d7d7ee",
   "metadata": {
    "id": "92d7d7ee"
   },
   "source": [
    "As defined in the description, the level of significance f this test is 5% (alfa = 0.05)"
   ]
  },
  {
   "cell_type": "markdown",
   "id": "5fed2eac",
   "metadata": {
    "id": "5fed2eac"
   },
   "source": [
    "### Step 4: Collect and prepare data"
   ]
  },
  {
   "cell_type": "code",
   "execution_count": 62,
   "id": "f5a59495",
   "metadata": {
    "id": "f5a59495"
   },
   "outputs": [],
   "source": [
    "# We need to separate the data into two groups. One for the new design and one for the old design.\n",
    "df_old = df[df['landing_page'] == 'old']['time_spent_on_the_page'].copy()\n",
    "df_new = df[df['landing_page'] == 'new']['time_spent_on_the_page'].copy()"
   ]
  },
  {
   "cell_type": "code",
   "execution_count": 63,
   "id": "0476d202-02cb-4855-9dab-fa91f5759727",
   "metadata": {},
   "outputs": [
    {
     "name": "stdout",
     "output_type": "stream",
     "text": [
      "Old sd is  2.58 . The new sd is  1.82\n"
     ]
    }
   ],
   "source": [
    "# We need to calculate standard deviation for each group now.\n",
    "old_sd = round(df_old.std(),2)\n",
    "new_sd = round(df_new.std(),2)\n",
    "print('Old sd is ', old_sd,'. The new sd is ',new_sd)"
   ]
  },
  {
   "cell_type": "markdown",
   "id": "eec25a42-d7a3-4439-9325-9c1f3b00d12f",
   "metadata": {},
   "source": [
    "From these results we can say that the standard deviation of both groups are not equal. "
   ]
  },
  {
   "cell_type": "markdown",
   "id": "f5c5258d",
   "metadata": {
    "id": "f5c5258d"
   },
   "source": [
    "### Step 5: Calculate the p-value"
   ]
  },
  {
   "cell_type": "code",
   "execution_count": 66,
   "id": "fac8594a",
   "metadata": {
    "id": "fac8594a"
   },
   "outputs": [
    {
     "name": "stdout",
     "output_type": "stream",
     "text": [
      "The p-value is 0.00013923812251665497\n"
     ]
    }
   ],
   "source": [
    "#importing the required library\n",
    "from scipy.stats import ttest_ind\n",
    "test_stat, p_value = ttest_ind(df_new, df_old, equal_var = False, alternative = 'greater')\n",
    "print('The p-value is ' + str(p_value))"
   ]
  },
  {
   "cell_type": "markdown",
   "id": "359b12f8",
   "metadata": {
    "id": "359b12f8"
   },
   "source": [
    "### Step 6: Compare the p-value with $\\alpha$"
   ]
  },
  {
   "cell_type": "code",
   "execution_count": 68,
   "id": "7be47289",
   "metadata": {
    "id": "7be47289"
   },
   "outputs": [
    {
     "name": "stdout",
     "output_type": "stream",
     "text": [
      "We have enough statistical evidence to reject the Null hypothesis. We reject the Null hypothesis/Accept the Alternative hypothesis\n"
     ]
    }
   ],
   "source": [
    "#check p-value versus alfa\n",
    "if p_value < 0.05:\n",
    "    print('We have enough statistical evidence to reject the Null hypothesis. We reject the Null hypothesis/Accept the Alternative hypothesis')\n",
    "else:\n",
    "    print(\"We don't have enough statistical evidence to reject the Null hypothesis. We accept the Null Hypothesis\")"
   ]
  },
  {
   "cell_type": "markdown",
   "id": "d9affc84",
   "metadata": {
    "id": "d9affc84"
   },
   "source": [
    "### Step 7:  Draw inference"
   ]
  },
  {
   "cell_type": "markdown",
   "id": "6b16dd4b",
   "metadata": {
    "id": "6b16dd4b"
   },
   "source": [
    "The calculated p-value sugests that we have enough evidence to reject the null hypothesis and accept the alternative one as true. So there is enough evidence to assume that users spent more time on the new design of the website. "
   ]
  },
  {
   "cell_type": "markdown",
   "id": "353e9d24",
   "metadata": {
    "id": "353e9d24"
   },
   "source": [
    "## 2. Is the conversion rate (the proportion of users who visit the landing page and get converted) for the new page greater than the conversion rate for the old page?"
   ]
  },
  {
   "cell_type": "code",
   "execution_count": 72,
   "id": "b7f52898",
   "metadata": {
    "id": "b7f52898"
   },
   "outputs": [
    {
     "data": {
      "image/png": "[encoded data removed]",
      "text/plain": [
       "<Figure size 640x480 with 1 Axes>"
      ]
     },
     "metadata": {},
     "output_type": "display_data"
    }
   ],
   "source": [
    "#Visual  Analysis\n",
    "sns.countplot(data=df, x='converted',hue='landing_page',palette='dark:Green');"
   ]
  },
  {
   "cell_type": "markdown",
   "id": "c1348dd8-3dad-42d9-b47d-bada47f543e0",
   "metadata": {},
   "source": [
    "At first sight it seems that the new website has a better convertion rate than the old design. Nevertheless, this needs to be proved."
   ]
  },
  {
   "cell_type": "markdown",
   "id": "51f306be-9128-4935-bbe3-1a89fbc56cb8",
   "metadata": {},
   "source": [
    "### Defining the Null/alternative hyptohesis\n",
    "\n",
    "As the convertion rate is a proportion of users who visit the landing page and get converted, the hypothesis needs to be formulated based on proportions (proportion of users using the new design converted = p1, and the proportion of users using the old design converted = p2). Then: \n",
    "\n",
    "\n",
    "$H_0$: p1 = p2\n",
    "\n",
    "$H_a$: p1 > p2"
   ]
  },
  {
   "cell_type": "markdown",
   "id": "eef7d014-d2e5-47a2-bb14-c930200f557c",
   "metadata": {},
   "source": [
    "### Chosen test and alpha\n",
    "   \n",
    "As we are dealing with proportions (convertion rates), the appropiate test to use is the two-sample proportion z-test. As stated in the problem the level of significance of this analysis is 5% (alpha = 0.05)"
   ]
  },
  {
   "cell_type": "markdown",
   "id": "bd122f70-dc6b-4d94-8645-a7d0fcede613",
   "metadata": {},
   "source": [
    "### Data collection"
   ]
  },
  {
   "cell_type": "code",
   "execution_count": 77,
   "id": "427aae6f-cd51-4f65-af65-67402293f17f",
   "metadata": {},
   "outputs": [
    {
     "name": "stdout",
     "output_type": "stream",
     "text": [
      "33 21\n"
     ]
    }
   ],
   "source": [
    "# We need to get both new and old design convertion rate\n",
    "new_rate = df[(df['converted'] == 'yes') & (df['landing_page'] == 'new')].shape[0]\n",
    "old_rate = df[(df['converted'] == 'yes') & (df['landing_page'] == 'old')].shape[0]\n",
    "print(new_rate, old_rate)"
   ]
  },
  {
   "cell_type": "code",
   "execution_count": 78,
   "id": "c00e2493-c2a6-4520-977c-aedc3fddd7c0",
   "metadata": {},
   "outputs": [],
   "source": [
    "# As we know, every group had 50 users\n",
    "nobs=np.array([50,50])\n",
    "# A list is used to store the rates \n",
    "rates=[new_rate,old_rate]"
   ]
  },
  {
   "cell_type": "markdown",
   "id": "c7ce3dab-f7bd-4df0-b5a6-9ac9c18adb13",
   "metadata": {},
   "source": [
    "### p-value calculation"
   ]
  },
  {
   "cell_type": "code",
   "execution_count": 80,
   "id": "f6e5707c-0c57-4488-912e-da080365d418",
   "metadata": {},
   "outputs": [
    {
     "name": "stdout",
     "output_type": "stream",
     "text": [
      "0.008026308204056278\n"
     ]
    }
   ],
   "source": [
    "#calling function proportions_ztest for 2 samples proportion z_test\n",
    "from statsmodels.stats.proportion import proportions_ztest\n",
    "test_stat, p_value2 = proportions_ztest(rates,nobs,alternative='larger')\n",
    "print(p_value2)"
   ]
  },
  {
   "cell_type": "markdown",
   "id": "cdc39d32-e473-420a-9997-a8bba1fabc6d",
   "metadata": {},
   "source": [
    "### Compare p-value with alpha"
   ]
  },
  {
   "cell_type": "code",
   "execution_count": 82,
   "id": "ce2385a2-f46c-4f47-bbab-ffe59dd334d1",
   "metadata": {},
   "outputs": [
    {
     "name": "stdout",
     "output_type": "stream",
     "text": [
      "We have enough statistical evidence to reject the Null hypothesis. We reject the Null hypothesis/Accept the Alternative hypothesis\n"
     ]
    }
   ],
   "source": [
    "if p_value2 < 0.05:\n",
    "    print('We have enough statistical evidence to reject the Null hypothesis. We reject the Null hypothesis/Accept the Alternative hypothesis')\n",
    "else:\n",
    "    print(\"We don't have enough statistical evidence to reject the Null hypothesis. We accept the Null Hypothesis\")"
   ]
  },
  {
   "cell_type": "markdown",
   "id": "a4656625-6b3d-43c5-87f2-7fa4dc45f14d",
   "metadata": {},
   "source": [
    "### Conclusions\n",
    "As out p-value is less than ouralpha, we can reject the null hypothesis and accept the alternative hypothesis as true. This means that we have enough evidence to say that the convertion rate of user in the new website is higher than the convertion rate of the old design."
   ]
  },
  {
   "cell_type": "markdown",
   "id": "d49bfa2d",
   "metadata": {
    "id": "d49bfa2d"
   },
   "source": [
    "## 3. Is the conversion and preferred language are independent or related?"
   ]
  },
  {
   "cell_type": "code",
   "execution_count": 85,
   "id": "18aa0842-8442-4353-94d7-ea9fade45823",
   "metadata": {},
   "outputs": [
    {
     "data": {
      "image/png": "[encoded data removed]",
      "text/plain": [
       "<Figure size 640x480 with 1 Axes>"
      ]
     },
     "metadata": {},
     "output_type": "display_data"
    }
   ],
   "source": [
    "#Data visualization\n",
    "sns.countplot(data=df, x='converted', hue='language_preferred', palette='dark:Green');"
   ]
  },
  {
   "cell_type": "markdown",
   "id": "10e89cb7-98d1-4828-b461-882559cb76dd",
   "metadata": {},
   "source": [
    "At first sight there is not a clear relation between the language used by the users and the convertion."
   ]
  },
  {
   "cell_type": "markdown",
   "id": "4c1af307-e868-4a3b-a220-aca30882ac14",
   "metadata": {},
   "source": [
    "### Defining the Null/alternative hyptohesis\n",
    "$H_0$: The convertion rate and the preferred language are independent\n",
    "\n",
    "$H_a$: The convertion rate and the preferred language are dependent/related. "
   ]
  },
  {
   "cell_type": "markdown",
   "id": "e6696e5f-0dd3-47d8-8b81-91c51d0f3118",
   "metadata": {},
   "source": [
    "### Chosen test and alpha\n",
    "To check relation between two categorical variables we need to use a chi square test for independence. As stated originally the defined alpha for this test is 0.05 (5%)"
   ]
  },
  {
   "cell_type": "markdown",
   "id": "5efc294b-06a2-4102-bbf8-8377bcaee2ca",
   "metadata": {},
   "source": [
    "### Data collection"
   ]
  },
  {
   "cell_type": "code",
   "execution_count": 90,
   "id": "b0e63f17",
   "metadata": {
    "id": "b0e63f17"
   },
   "outputs": [
    {
     "name": "stdout",
     "output_type": "stream",
     "text": [
      "language_preferred  English  French  Spanish\n",
      "converted                                   \n",
      "no                       11      19       16\n",
      "yes                      21      15       18\n"
     ]
    }
   ],
   "source": [
    "# We need to get the data from the incumbent columns that are 'converted' and 'language_preferred'.\n",
    "# For this purpose we create a contigency table that we can later plug-in into the chi-square test.\n",
    "contigency_table = pd.crosstab(df['converted'], df['language_preferred'])\n",
    "print(contigency_table)"
   ]
  },
  {
   "cell_type": "markdown",
   "id": "735e9ae4-ce39-4227-aeb9-918ad3bd8529",
   "metadata": {},
   "source": [
    "### p-value calculation"
   ]
  },
  {
   "cell_type": "code",
   "execution_count": 92,
   "id": "b355b95c-2806-471a-836d-300085001d5f",
   "metadata": {},
   "outputs": [
    {
     "name": "stdout",
     "output_type": "stream",
     "text": [
      "0.21298887487543447\n"
     ]
    }
   ],
   "source": [
    "from scipy.stats import chi2_contingency\n",
    "chi2, p_value3, dof, expected = chi2_contingency(contigency_table)\n",
    "print(p_value3)"
   ]
  },
  {
   "cell_type": "markdown",
   "id": "6ee290a6-032a-4534-87ed-474b6302c9d6",
   "metadata": {},
   "source": [
    "### Compare p-value with alpha"
   ]
  },
  {
   "cell_type": "code",
   "execution_count": 94,
   "id": "159756f5-3b12-42cc-b7a4-ea0bd65f9c7b",
   "metadata": {},
   "outputs": [
    {
     "name": "stdout",
     "output_type": "stream",
     "text": [
      "We don't have enough statistical evidence to reject the Null hypothesis. We accept the Null Hypothesis\n"
     ]
    }
   ],
   "source": [
    "if p_value3 < 0.05:\n",
    "    print('We have enough statistical evidence to reject the Null hypothesis. We reject the Null hypothesis/Accept the Alternative hypothesis')\n",
    "else:\n",
    "    print(\"We don't have enough statistical evidence to reject the Null hypothesis. We accept the Null Hypothesis\")"
   ]
  },
  {
   "cell_type": "markdown",
   "id": "b46d775f-ef27-48db-a908-065ecad47502",
   "metadata": {},
   "source": [
    "### Conclusions\n",
    "As the p-value is higher than our defined alpha value, we don't have enough statistical evidence to reject the null hypothesis, that means that the idea that both variables are independent seems to be true with the available information. We can't conclude that the preferred language of the users has an incidende on their convertion."
   ]
  },
  {
   "cell_type": "markdown",
   "id": "8d585a90",
   "metadata": {
    "id": "8d585a90"
   },
   "source": [
    "## 4. Is the time spent on the new page same for the different language users?"
   ]
  },
  {
   "cell_type": "markdown",
   "id": "9e31fe74-2eb1-4e42-8ac3-47da4d3293db",
   "metadata": {},
   "source": [
    "### Data visualization"
   ]
  },
  {
   "cell_type": "code",
   "execution_count": 154,
   "id": "fc5047e1-71ad-4608-b263-e057b46d7423",
   "metadata": {},
   "outputs": [
    {
     "data": {
      "image/png": "[encoded data removed]",
      "text/plain": [
       "<Figure size 640x480 with 1 Axes>"
      ]
     },
     "metadata": {},
     "output_type": "display_data"
    }
   ],
   "source": [
    "time_spent = df[df['group'] == 'treatment']\n",
    "sns.violinplot(data=time_spent, x='time_spent_on_the_page', hue='language_preferred', palette='light:Green');"
   ]
  },
  {
   "cell_type": "markdown",
   "id": "5b793fa5-9369-4c90-91da-1bbd0c8e65f2",
   "metadata": {},
   "source": [
    "At first sight, it seems that there is a small difference in the mean time spent on the new website depending on the preferred language of the user."
   ]
  },
  {
   "cell_type": "markdown",
   "id": "63cd5b38-8fc4-4468-a28b-4af6c96c3e58",
   "metadata": {},
   "source": [
    "### Defining the Null/alternative hyptohesis\n",
    "\n",
    "Having three different languages each one with a different mean of time spent on the new site, we will define 3 different means each of them corresponding to an specific language. μs for Spanish, μe for English and μf for French\n",
    "\n",
    "$H_0$:     μs = μe = μf\n",
    "\n",
    "$H_a$:     μs &ne; μe &ne; uf (At least one of them is different)"
   ]
  },
  {
   "cell_type": "markdown",
   "id": "4ace4593-a41d-4081-b7b6-89c5e4cda31b",
   "metadata": {},
   "source": [
    "### Defining test and alpha level\n",
    "As we are comparing means of different groups (preferred language) and we want to test if one of the group's mean is different a suitable test is the ANOVA test. As stated before, the required alpha is 0.05 (5%)"
   ]
  },
  {
   "cell_type": "markdown",
   "id": "ae4c8c52-087b-4e1b-9795-225502f037ce",
   "metadata": {},
   "source": [
    "### Collect and prepare data"
   ]
  },
  {
   "cell_type": "code",
   "execution_count": 103,
   "id": "43853b7d-72c0-4f8d-bfed-6c326efeef48",
   "metadata": {},
   "outputs": [],
   "source": [
    "# We need to separate each group of the new page by their languague. After that we can calculate means for each group.\n",
    "# To achieve this we are going to use the recently created dataframe (time_spent) with the new design information only.\n",
    "\n",
    "time_english = time_spent[time_spent['language_preferred'] == 'English']['time_spent_on_the_page']\n",
    "time_spanish = time_spent[time_spent['language_preferred'] == 'Spanish']['time_spent_on_the_page']\n",
    "time_french = time_spent[time_spent['language_preferred'] == 'French']['time_spent_on_the_page']"
   ]
  },
  {
   "cell_type": "code",
   "execution_count": 104,
   "id": "d755e6fa-129a-4752-964f-0b53f7001009",
   "metadata": {},
   "outputs": [
    {
     "name": "stdout",
     "output_type": "stream",
     "text": [
      "0.43204138694325955\n"
     ]
    }
   ],
   "source": [
    "#Import required library\n",
    "from scipy.stats import f_oneway\n",
    "#calculate p-value\n",
    "test_stat, p_value4 = f_oneway(time_english,time_spanish,time_french)\n",
    "print(p_value4)"
   ]
  },
  {
   "cell_type": "code",
   "execution_count": 105,
   "id": "91b8ad6c-b9a9-47b4-bad4-602a38a0f4c4",
   "metadata": {},
   "outputs": [
    {
     "name": "stdout",
     "output_type": "stream",
     "text": [
      "We don't have enough statistical evidence to reject the Null hypothesis. We accept the Null Hypothesis\n"
     ]
    }
   ],
   "source": [
    "if p_value4 < 0.05:\n",
    "    print('We have enough statistical evidence to reject the Null hypothesis. We reject the Null hypothesis/Accept the Alternative hypothesis')\n",
    "else:\n",
    "    print(\"We don't have enough statistical evidence to reject the Null hypothesis. We accept the Null Hypothesis\")"
   ]
  },
  {
   "cell_type": "markdown",
   "id": "eb3697b2-260b-4616-a536-0c4640d1e5fc",
   "metadata": {},
   "source": [
    "### Conclusions\n",
    "\n",
    "As the p-value is higher than out defined alpha we don't have enough evidence to reject the null hypothesis, meaning that even though at first sight there seems to be a difference between the time spent by users with different languages, this is not the case. We can then say that the mean time spent in the new design has no relation with the language used by the users."
   ]
  },
  {
   "cell_type": "markdown",
   "id": "3acbc947",
   "metadata": {
    "id": "3acbc947"
   },
   "source": [
    "## Conclusion and Business Recommendations"
   ]
  },
  {
   "cell_type": "markdown",
   "id": "21fb1063",
   "metadata": {
    "id": "21fb1063"
   },
   "source": [
    "### Conclusions:\n",
    "\n",
    "The new design causes users to spend more time on the website compared to the old design.\n",
    "\n",
    "The conversion rate is higher on the new website design.\n",
    "\n",
    "The conversion rate is not related to the user's preferred language.\n",
    "\n",
    "The average time spent by users on the new website is not related to the user's preferred language.\n",
    "\n",
    "### Recommendations:\n",
    "\n",
    "Based on these conclusions, we recommend that the executive team proceed with the new design. This change is likely to increase the time users spend on the website and improve the conversion rate, potentially boosting revenue from user subscriptions. Additionally, we can assure that the users' preferred language does not influence the time spent on the website or the conversion rate, making this change effective for English, Spanish, and French users."
   ]
  },
  {
   "cell_type": "markdown",
   "id": "U0dAd4i0iCHo",
   "metadata": {
    "id": "U0dAd4i0iCHo"
   },
   "source": [
    "___"
   ]
  }
 ],
 "metadata": {
  "colab": {
   "collapsed_sections": [
    "6970dd99",
    "9d75cfa2",
    "68f3b2c9",
    "fad2de2f",
    "27906576",
    "e5fdf0c8",
    "56b3dafd",
    "c7ee4907",
    "3f58c9a7",
    "5fed2eac",
    "f5c5258d",
    "359b12f8",
    "d9affc84",
    "353e9d24",
    "d49bfa2d",
    "8d585a90",
    "3acbc947"
   ],
   "provenance": []
  },
  "kernelspec": {
   "display_name": "Python 3 (ipykernel)",
   "language": "python",
   "name": "python3"
  },
  "language_info": {
   "codemirror_mode": {
    "name": "ipython",
    "version": 3
   },
   "file_extension": ".py",
   "mimetype": "text/x-python",
   "name": "python",
   "nbconvert_exporter": "python",
   "pygments_lexer": "ipython3",
   "version": "3.12.7"
  }
 },
 "nbformat": 4,
 "nbformat_minor": 5
}
